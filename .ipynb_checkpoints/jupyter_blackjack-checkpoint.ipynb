{
 "cells": [
  {
   "cell_type": "code",
   "execution_count": 9,
   "id": "adcb8e9a",
   "metadata": {},
   "outputs": [],
   "source": [
    "import random\n",
    "\n",
    "suits = (\"Hearts\", \"Diamonds\", \"Spades\", \"Clubs\")\n",
    "ranks = ('Two','Three','Four','Five','Six','Seven','Eight','Nine','Ten','Jack','Queen','King','Ace')\n",
    "values = {'Two':2,'Three':3,'Four':4,'Five':5,'Six':6,'Seven':7,'Eight':8,'Nine':9,'Ten':10,'Jack':10,\n",
    "         'Queen':10,'King':10,'Ace':11}\n",
    "\n",
    "playing = True"
   ]
  },
  {
   "cell_type": "code",
   "execution_count": 10,
   "id": "923fe899",
   "metadata": {},
   "outputs": [],
   "source": [
    "class Card():\n",
    "    \n",
    "    def __init__(self,suit,rank):\n",
    "        self.suit = suit\n",
    "        self.rank = rank\n",
    "            \n",
    "    def __str__(self):\n",
    "        return self.rank + \" of \" + self.suit"
   ]
  },
  {
   "cell_type": "code",
   "execution_count": 11,
   "id": "c65f70a7",
   "metadata": {},
   "outputs": [],
   "source": [
    "class Deck():\n",
    "    \n",
    "    def __init__(self):\n",
    "        self.deck = []\n",
    "        for peach in suits:\n",
    "            for cherry in ranks:\n",
    "                self.deck.append(Card(peach,cherry))\n",
    "                \n",
    "    def __str__(self):\n",
    "        deck_composition = ''\n",
    "        for dingleberry in self.deck:\n",
    "            deck_composition += '\\n' + dingleberry.__str__()\n",
    "        return \"The deck has: \" + deck_composition\n",
    "    \n",
    "    def shuffle(self):\n",
    "        random.shuffle(self.deck)\n",
    "    \n",
    "    def deal(self):\n",
    "        single_card = self.deck.pop()\n",
    "        return single_card"
   ]
  },
  {
   "cell_type": "code",
   "execution_count": 14,
   "id": "37e44369",
   "metadata": {},
   "outputs": [
    {
     "name": "stdout",
     "output_type": "stream",
     "text": [
      "The deck has: \n",
      "Two of Spades\n",
      "Six of Hearts\n",
      "Six of Diamonds\n",
      "Five of Spades\n",
      "Jack of Clubs\n",
      "Seven of Clubs\n",
      "Jack of Hearts\n",
      "Two of Clubs\n",
      "Four of Diamonds\n",
      "Ace of Spades\n",
      "Ace of Diamonds\n",
      "Five of Clubs\n",
      "Eight of Diamonds\n",
      "Queen of Diamonds\n",
      "Eight of Hearts\n",
      "Nine of Hearts\n",
      "King of Hearts\n",
      "Five of Diamonds\n",
      "Three of Spades\n",
      "Six of Clubs\n",
      "Three of Clubs\n",
      "Ten of Clubs\n",
      "Ace of Clubs\n",
      "Four of Hearts\n",
      "Eight of Clubs\n",
      "Ace of Hearts\n",
      "Queen of Hearts\n",
      "Nine of Clubs\n",
      "Four of Spades\n",
      "Seven of Spades\n",
      "Queen of Clubs\n",
      "Two of Diamonds\n",
      "King of Clubs\n",
      "Ten of Hearts\n",
      "Three of Hearts\n",
      "Seven of Diamonds\n",
      "Eight of Spades\n",
      "Five of Hearts\n",
      "Jack of Diamonds\n",
      "Seven of Hearts\n",
      "Ten of Spades\n",
      "Nine of Spades\n",
      "Two of Hearts\n",
      "King of Diamonds\n",
      "Three of Diamonds\n",
      "King of Spades\n",
      "Nine of Diamonds\n",
      "Ten of Diamonds\n",
      "Four of Clubs\n",
      "Six of Spades\n",
      "Jack of Spades\n",
      "Queen of Spades\n"
     ]
    }
   ],
   "source": [
    "test_deck = Deck()\n",
    "test_deck.shuffle()\n",
    "print(test_deck)"
   ]
  },
  {
   "cell_type": "code",
   "execution_count": 19,
   "id": "899bec23",
   "metadata": {},
   "outputs": [],
   "source": [
    "class Hand():\n",
    "    \n",
    "    def __init__(self):\n",
    "        self.cards = [] # start with an empty list as we did in the deck class\n",
    "        self.value = 0 # start with a zero value\n",
    "        self.aces = 0 # add an attribute to keep track of aces\n",
    "        \n",
    "    def add_card(self,card):\n",
    "        # card is passed in from Deck.deal() -- single Card(suit,rank)\n",
    "        self.cards.append(card)\n",
    "        self.value += values[card.rank]\n",
    "        \n",
    "        # track the aces\n",
    "        if card.rank == 'Ace':\n",
    "            self.aces += 1\n",
    "    \n",
    "    def adjust_for_ace(self):\n",
    "        \n",
    "        # if the player's total value > 21 and they still have an ace\n",
    "        # then change the ace to be a 1 instead of an 11\n",
    "        while self.value > 21 and self.aces > 0:\n",
    "            self.value -= 10\n",
    "            self.aces -= 1"
   ]
  },
  {
   "cell_type": "code",
   "execution_count": 20,
   "id": "46cc4f7a",
   "metadata": {},
   "outputs": [
    {
     "name": "stdout",
     "output_type": "stream",
     "text": [
      "Nine of Clubs\n",
      "9\n"
     ]
    }
   ],
   "source": [
    "test_deck = Deck()\n",
    "test_deck.shuffle()\n",
    "\n",
    "# define the PLAYER\n",
    "test_player = Hand()\n",
    "# deal one CARD(suit,rank) from the deck\n",
    "pulled_card = test_deck.deal()\n",
    "print(pulled_card)\n",
    "# add that pulled card to the test player's hand\n",
    "test_player.add_card(pulled_card)\n",
    "print(test_player.value)"
   ]
  },
  {
   "cell_type": "code",
   "execution_count": 21,
   "id": "459ae5d2",
   "metadata": {},
   "outputs": [],
   "source": [
    "test_player.add_card(test_deck.deal())"
   ]
  },
  {
   "cell_type": "code",
   "execution_count": 22,
   "id": "09bc9c87",
   "metadata": {},
   "outputs": [
    {
     "data": {
      "text/plain": [
       "13"
      ]
     },
     "execution_count": 22,
     "metadata": {},
     "output_type": "execute_result"
    }
   ],
   "source": [
    "test_player.value"
   ]
  },
  {
   "cell_type": "code",
   "execution_count": 23,
   "id": "70249a02",
   "metadata": {},
   "outputs": [],
   "source": [
    "class Chips():\n",
    "    \n",
    "    def __init__(self,total=100):\n",
    "        self.total = total  # This can be set to any default value or supplied by user input\n",
    "        self.bet = 0\n",
    "        \n",
    "    def win_bet(self):\n",
    "        self.total += self.bet\n",
    "    \n",
    "    def lose_bet(self):\n",
    "        self.total -= self.bet"
   ]
  },
  {
   "cell_type": "code",
   "execution_count": 25,
   "id": "0fd26688",
   "metadata": {},
   "outputs": [],
   "source": [
    "def take_bet(chips):\n",
    "    \n",
    "    while True:\n",
    "        \n",
    "        try: \n",
    "            chips.bet = int(input(\"How many chips would you like to bet? \"))\n",
    "        except:\n",
    "            print(\"Sorry, please provide an integer.\")\n",
    "        else:\n",
    "            if chips.bet > chips.total:\n",
    "                print(\"Sorry, you do not have enough chips and you are a terrible person. You only have {} chips\".format(chips.total))\n",
    "            else:\n",
    "                break"
   ]
  },
  {
   "cell_type": "code",
   "execution_count": 26,
   "id": "9fa781e5",
   "metadata": {},
   "outputs": [],
   "source": [
    "def hit(deck,hand):\n",
    "    \n",
    "    single_card = deck.deal()\n",
    "    hand.add_card(single_card)\n",
    "    hand.adjust_for_ace()"
   ]
  },
  {
   "cell_type": "code",
   "execution_count": 27,
   "id": "81fa418e",
   "metadata": {},
   "outputs": [],
   "source": [
    "def hit_or_stand(deck,hand):\n",
    "    global playing  # to control an upcoming while loop\n",
    "    \n",
    "    while True:\n",
    "        x = input('Hit or Stand? Enter h or s ') \n",
    "        \n",
    "        # account for typos like H or stand or HIT etc\n",
    "        \n",
    "        if x[0].lower() == 'h':\n",
    "            hit(deck,hand)\n",
    "            \n",
    "        elif x[0].lower() == 's':\n",
    "            print(\"Player stands; dealer's turn\")\n",
    "            playing = false\n",
    "            \n",
    "        else:\n",
    "            print(\"Sorry, I didn't understand what you typed. Please enter an h or an s.\")\n",
    "            continue\n",
    "            \n",
    "        break\n",
    "        \n",
    "        "
   ]
  },
  {
   "cell_type": "code",
   "execution_count": 28,
   "id": "46f0bdc7",
   "metadata": {},
   "outputs": [],
   "source": [
    "cherries = [7,77,777,7777]"
   ]
  },
  {
   "cell_type": "code",
   "execution_count": 32,
   "id": "c9d4fa64",
   "metadata": {},
   "outputs": [
    {
     "name": "stdout",
     "output_type": "stream",
     "text": [
      "The number of cherries are: \n",
      "--7\n",
      "--77\n",
      "--777\n",
      "--7777\n"
     ]
    }
   ],
   "source": [
    "print(\"The number of cherries are: \",*cherries,sep=\"\\n--\")"
   ]
  },
  {
   "cell_type": "code",
   "execution_count": 33,
   "id": "322eaa08",
   "metadata": {},
   "outputs": [],
   "source": [
    "# Write functions to display the cards\n",
    "\n",
    "def show_some(player,dealer):\n",
    "    \n",
    "    # show only one of the dealer's cards\n",
    "    print(\"\\n Dealer's Hand: \")\n",
    "    print(\"First card is hidden!\")\n",
    "    print(dealer.cards[1])\n",
    "    \n",
    "    # show all (2 cards) of the player's hand/cards\n",
    "    print(\"\\n Player's hand: \")\n",
    "    for card in player.cards:\n",
    "        print(card)\n",
    "    \n",
    "    \n",
    "def show_all(player,dealer):\n",
    "    \n",
    "    # show all of the dealer's cards\n",
    "    \n",
    "    print(\"\\n Dealer's hand: \")\n",
    "    for card in dealer.cards:\n",
    "        print(card)\n",
    "    \n",
    "    # calculate and display the value (example Jack + King == 20)\n",
    "    \n",
    "    print(\"Value of dealer's hand is: {}\".format(dealer.value))\n",
    "    \n",
    "    # show all of the player's cards\n",
    "    \n",
    "    print(\"\\n Player's hand: \")\n",
    "    for card in player.cards:\n",
    "        print(card)\n",
    "        \n",
    "    print(\"Value of player's hand is: {}\".format(player.value))\n"
   ]
  },
  {
   "cell_type": "code",
   "execution_count": 35,
   "id": "f54ee743",
   "metadata": {},
   "outputs": [],
   "source": [
    "def player_busts(player,dealer,chips):\n",
    "    print('Player BUSTS!')\n",
    "    chips.lose_bet()\n",
    "\n",
    "def player_wins(player,dealer,chips):\n",
    "    print('Player WINS!')\n",
    "    chips.win_bet()\n",
    "\n",
    "def dealer_busts(player,dealer,chips):\n",
    "    print('Dealer BUST!')\n",
    "    chips.win_bet()\n",
    "\n",
    "def dealer_wins(player,dealer,chips):\n",
    "    print('Dealer WINS!')\n",
    "    chips.lose_bet()\n",
    "\n",
    "def push(player,dealer):\n",
    "    print(\"Dealer and player tie! PUSH!\")\n"
   ]
  },
  {
   "cell_type": "code",
   "execution_count": null,
   "id": "70656d9f",
   "metadata": {},
   "outputs": [],
   "source": []
  }
 ],
 "metadata": {
  "kernelspec": {
   "display_name": "Python 3 (ipykernel)",
   "language": "python",
   "name": "python3"
  },
  "language_info": {
   "codemirror_mode": {
    "name": "ipython",
    "version": 3
   },
   "file_extension": ".py",
   "mimetype": "text/x-python",
   "name": "python",
   "nbconvert_exporter": "python",
   "pygments_lexer": "ipython3",
   "version": "3.11.3"
  }
 },
 "nbformat": 4,
 "nbformat_minor": 5
}
