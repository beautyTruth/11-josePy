{
 "cells": [
  {
   "cell_type": "code",
   "execution_count": 67,
   "id": "40a8bed2",
   "metadata": {},
   "outputs": [],
   "source": [
    "# Card class\n",
    "# Suit, rank, value\n",
    "import random\n",
    "suits = ('Hearts', 'Diamonds', 'Spades', 'Clubs')\n",
    "ranks = ('Two','Three','Four','Five','Six','Seven','Eight','Nine','Ten','Jack','King','Queen','Ace')\n",
    "values = {'Two':2,'Three':3,'Four':4,'Five':5,'Six':6,'Seven':7,'Eight':8,'Nine':9,'Ten':10,'Jack':11,\n",
    "          'Queen':12,'King':13,'Ace':14}"
   ]
  },
  {
   "cell_type": "code",
   "execution_count": 68,
   "id": "820c4d39",
   "metadata": {},
   "outputs": [],
   "source": [
    "class Card:\n",
    "    \n",
    "    def __init__(self,suit,rank):\n",
    "        self.suit = suit\n",
    "        self.rank = rank\n",
    "        self.value = values[rank]\n",
    "        \n",
    "    def __str__(self):\n",
    "        return self.rank + \" of \" + self.suit"
   ]
  },
  {
   "cell_type": "code",
   "execution_count": 69,
   "id": "bf1c5685",
   "metadata": {},
   "outputs": [],
   "source": [
    "three_of_clubs = Card(\"Clubs\",\"Three\")"
   ]
  },
  {
   "cell_type": "code",
   "execution_count": 70,
   "id": "3171e796",
   "metadata": {},
   "outputs": [
    {
     "data": {
      "text/plain": [
       "'Clubs'"
      ]
     },
     "execution_count": 70,
     "metadata": {},
     "output_type": "execute_result"
    }
   ],
   "source": [
    "three_of_clubs.suit"
   ]
  },
  {
   "cell_type": "code",
   "execution_count": 71,
   "id": "3b6e5180",
   "metadata": {},
   "outputs": [
    {
     "data": {
      "text/plain": [
       "3"
      ]
     },
     "execution_count": 71,
     "metadata": {},
     "output_type": "execute_result"
    }
   ],
   "source": [
    "three_of_clubs.value"
   ]
  },
  {
   "cell_type": "code",
   "execution_count": 72,
   "id": "dc890729",
   "metadata": {},
   "outputs": [
    {
     "data": {
      "text/plain": [
       "'Three'"
      ]
     },
     "execution_count": 72,
     "metadata": {},
     "output_type": "execute_result"
    }
   ],
   "source": [
    "three_of_clubs.rank"
   ]
  },
  {
   "cell_type": "code",
   "execution_count": 73,
   "id": "3461a946",
   "metadata": {},
   "outputs": [],
   "source": [
    "queen_hearts = Card('Hearts','king'.capitalize())"
   ]
  },
  {
   "cell_type": "code",
   "execution_count": 74,
   "id": "0e0eb56b",
   "metadata": {},
   "outputs": [
    {
     "data": {
      "text/plain": [
       "<__main__.Card at 0x10a474510>"
      ]
     },
     "execution_count": 74,
     "metadata": {},
     "output_type": "execute_result"
    }
   ],
   "source": [
    "queen_hearts"
   ]
  },
  {
   "cell_type": "code",
   "execution_count": 75,
   "id": "a7060fcf",
   "metadata": {},
   "outputs": [
    {
     "name": "stdout",
     "output_type": "stream",
     "text": [
      "King of Hearts\n"
     ]
    }
   ],
   "source": [
    "print(queen_hearts)"
   ]
  },
  {
   "cell_type": "code",
   "execution_count": 76,
   "id": "971b5626",
   "metadata": {},
   "outputs": [
    {
     "data": {
      "text/plain": [
       "'King'"
      ]
     },
     "execution_count": 76,
     "metadata": {},
     "output_type": "execute_result"
    }
   ],
   "source": [
    "queen_hearts.rank"
   ]
  },
  {
   "cell_type": "code",
   "execution_count": 77,
   "id": "54eb3d13",
   "metadata": {},
   "outputs": [
    {
     "data": {
      "text/plain": [
       "'Hearts'"
      ]
     },
     "execution_count": 77,
     "metadata": {},
     "output_type": "execute_result"
    }
   ],
   "source": [
    "queen_hearts.suit"
   ]
  },
  {
   "cell_type": "code",
   "execution_count": 78,
   "id": "b3342b80",
   "metadata": {},
   "outputs": [
    {
     "data": {
      "text/plain": [
       "13"
      ]
     },
     "execution_count": 78,
     "metadata": {},
     "output_type": "execute_result"
    }
   ],
   "source": [
    "values[queen_hearts.rank]"
   ]
  },
  {
   "cell_type": "code",
   "execution_count": 79,
   "id": "0bd3bb97",
   "metadata": {},
   "outputs": [
    {
     "data": {
      "text/plain": [
       "True"
      ]
     },
     "execution_count": 79,
     "metadata": {},
     "output_type": "execute_result"
    }
   ],
   "source": [
    "queen_hearts.value > three_of_clubs.value"
   ]
  },
  {
   "cell_type": "code",
   "execution_count": 80,
   "id": "cbaabd7c",
   "metadata": {},
   "outputs": [
    {
     "data": {
      "text/plain": [
       "False"
      ]
     },
     "execution_count": 80,
     "metadata": {},
     "output_type": "execute_result"
    }
   ],
   "source": [
    "queen_hearts.value < three_of_clubs.value"
   ]
  },
  {
   "cell_type": "code",
   "execution_count": 115,
   "id": "6448e9ca",
   "metadata": {},
   "outputs": [],
   "source": [
    "class Deck:\n",
    "    \n",
    "    def __init__(self):\n",
    "        \n",
    "        self.all_cards = []\n",
    "        \n",
    "        for suit in suits:\n",
    "            for rank in ranks:\n",
    "                # create the CARD object\n",
    "                created_card = Card(suit,rank)\n",
    "                \n",
    "                self.all_cards.append(created_card)\n",
    "                \n",
    "    def shuffle(self):\n",
    "        \n",
    "        random.shuffle(self.all_cards)\n",
    "        \n",
    "    def deal_one(self):\n",
    "        \n",
    "        return self.all_cards.pop()"
   ]
  },
  {
   "cell_type": "code",
   "execution_count": 116,
   "id": "8bd71225",
   "metadata": {},
   "outputs": [],
   "source": [
    "new_deck = Deck()"
   ]
  },
  {
   "cell_type": "code",
   "execution_count": 117,
   "id": "b7689f81",
   "metadata": {},
   "outputs": [],
   "source": [
    "new_deck.shuffle()"
   ]
  },
  {
   "cell_type": "code",
   "execution_count": 118,
   "id": "00a68d97",
   "metadata": {},
   "outputs": [],
   "source": [
    "mycard = new_deck.deal_one()"
   ]
  },
  {
   "cell_type": "code",
   "execution_count": 120,
   "id": "e5544637",
   "metadata": {},
   "outputs": [
    {
     "name": "stdout",
     "output_type": "stream",
     "text": [
      "Five of Clubs\n"
     ]
    }
   ],
   "source": [
    "print(mycard)"
   ]
  },
  {
   "cell_type": "code",
   "execution_count": 122,
   "id": "cac108da",
   "metadata": {
    "scrolled": true
   },
   "outputs": [
    {
     "data": {
      "text/plain": [
       "51"
      ]
     },
     "execution_count": 122,
     "metadata": {},
     "output_type": "execute_result"
    }
   ],
   "source": [
    "len(new_deck.all_cards)"
   ]
  },
  {
   "cell_type": "code",
   "execution_count": null,
   "id": "76a7635f",
   "metadata": {},
   "outputs": [],
   "source": []
  }
 ],
 "metadata": {
  "kernelspec": {
   "display_name": "Python 3 (ipykernel)",
   "language": "python",
   "name": "python3"
  },
  "language_info": {
   "codemirror_mode": {
    "name": "ipython",
    "version": 3
   },
   "file_extension": ".py",
   "mimetype": "text/x-python",
   "name": "python",
   "nbconvert_exporter": "python",
   "pygments_lexer": "ipython3",
   "version": "3.11.3"
  }
 },
 "nbformat": 4,
 "nbformat_minor": 5
}
